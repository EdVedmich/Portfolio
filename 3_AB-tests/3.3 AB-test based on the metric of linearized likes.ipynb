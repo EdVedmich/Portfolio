{
 "cells": [
  {
   "cell_type": "code",
   "execution_count": 39,
   "id": "6fe98e59-50ac-4b87-b221-087e9d3ce1da",
   "metadata": {},
   "outputs": [],
   "source": [
    "# Импортируем библиотеки\n",
    "import pandahouse as ph\n",
    "import pandas as pd\n",
    "import numpy as np\n",
    "import seaborn as sns\n",
    "import matplotlib.pyplot as plt\n",
    "import hashlib\n",
    "from scipy import stats\n",
    "%matplotlib inline"
   ]
  },
  {
   "cell_type": "code",
   "execution_count": 79,
   "id": "e9b0ef29-4b38-46fb-a7cd-441cb11e081b",
   "metadata": {},
   "outputs": [],
   "source": [
    "# Подключаемся к базе данных\n",
    "connection = {\n",
    "    'host': 'https://clickhouse.lab.karpov.courses',\n",
    "    'password': 'dpo_python_2020',\n",
    "    'user': 'student',\n",
    "    'database': 'simulator_20220620'\n",
    "}"
   ]
  },
  {
   "cell_type": "markdown",
   "id": "9882233c-4360-46b4-829b-31b0cdbd477b",
   "metadata": {},
   "source": [
    "1. Проведем сравнение тестов между группами 0 и 3"
   ]
  },
  {
   "cell_type": "code",
   "execution_count": 80,
   "id": "a1731ed3-63aa-4627-a05d-e57f95fe4b46",
   "metadata": {},
   "outputs": [],
   "source": [
    "# Создаем запрос\n",
    "q = \"\"\"\n",
    "SELECT exp_group, \n",
    "    user_id,\n",
    "    sum(action = 'like') as likes,\n",
    "    sum(action = 'view') as views,\n",
    "    likes/views as ctr\n",
    "FROM {db}.feed_actions \n",
    "WHERE toDate(time) between '2022-05-24' and '2022-05-30'\n",
    "    and exp_group in (0,3)\n",
    "GROUP BY exp_group, user_id\n",
    "\"\"\"\n",
    "\n",
    "# Загружаем данные из clickhouse\n",
    "df = ph.read_clickhouse(q, connection=connection)"
   ]
  },
  {
   "cell_type": "code",
   "execution_count": 81,
   "id": "d1cf41df-3548-4133-9d32-0ce83d530545",
   "metadata": {},
   "outputs": [
    {
     "data": {
      "text/html": [
       "<div>\n",
       "<style scoped>\n",
       "    .dataframe tbody tr th:only-of-type {\n",
       "        vertical-align: middle;\n",
       "    }\n",
       "\n",
       "    .dataframe tbody tr th {\n",
       "        vertical-align: top;\n",
       "    }\n",
       "\n",
       "    .dataframe thead th {\n",
       "        text-align: right;\n",
       "    }\n",
       "</style>\n",
       "<table border=\"1\" class=\"dataframe\">\n",
       "  <thead>\n",
       "    <tr style=\"text-align: right;\">\n",
       "      <th></th>\n",
       "      <th>exp_group</th>\n",
       "      <th>user_id</th>\n",
       "      <th>likes</th>\n",
       "      <th>views</th>\n",
       "      <th>ctr</th>\n",
       "    </tr>\n",
       "  </thead>\n",
       "  <tbody>\n",
       "    <tr>\n",
       "      <th>0</th>\n",
       "      <td>3</td>\n",
       "      <td>115383</td>\n",
       "      <td>9</td>\n",
       "      <td>30</td>\n",
       "      <td>0.300000</td>\n",
       "    </tr>\n",
       "    <tr>\n",
       "      <th>1</th>\n",
       "      <td>3</td>\n",
       "      <td>123580</td>\n",
       "      <td>13</td>\n",
       "      <td>48</td>\n",
       "      <td>0.270833</td>\n",
       "    </tr>\n",
       "    <tr>\n",
       "      <th>2</th>\n",
       "      <td>0</td>\n",
       "      <td>4944</td>\n",
       "      <td>8</td>\n",
       "      <td>41</td>\n",
       "      <td>0.195122</td>\n",
       "    </tr>\n",
       "    <tr>\n",
       "      <th>3</th>\n",
       "      <td>0</td>\n",
       "      <td>4504</td>\n",
       "      <td>5</td>\n",
       "      <td>15</td>\n",
       "      <td>0.333333</td>\n",
       "    </tr>\n",
       "    <tr>\n",
       "      <th>4</th>\n",
       "      <td>0</td>\n",
       "      <td>121508</td>\n",
       "      <td>18</td>\n",
       "      <td>88</td>\n",
       "      <td>0.204545</td>\n",
       "    </tr>\n",
       "    <tr>\n",
       "      <th>...</th>\n",
       "      <td>...</td>\n",
       "      <td>...</td>\n",
       "      <td>...</td>\n",
       "      <td>...</td>\n",
       "      <td>...</td>\n",
       "    </tr>\n",
       "    <tr>\n",
       "      <th>20043</th>\n",
       "      <td>3</td>\n",
       "      <td>13781</td>\n",
       "      <td>10</td>\n",
       "      <td>27</td>\n",
       "      <td>0.370370</td>\n",
       "    </tr>\n",
       "    <tr>\n",
       "      <th>20044</th>\n",
       "      <td>3</td>\n",
       "      <td>130651</td>\n",
       "      <td>18</td>\n",
       "      <td>98</td>\n",
       "      <td>0.183673</td>\n",
       "    </tr>\n",
       "    <tr>\n",
       "      <th>20045</th>\n",
       "      <td>0</td>\n",
       "      <td>3681</td>\n",
       "      <td>7</td>\n",
       "      <td>55</td>\n",
       "      <td>0.127273</td>\n",
       "    </tr>\n",
       "    <tr>\n",
       "      <th>20046</th>\n",
       "      <td>3</td>\n",
       "      <td>122008</td>\n",
       "      <td>5</td>\n",
       "      <td>41</td>\n",
       "      <td>0.121951</td>\n",
       "    </tr>\n",
       "    <tr>\n",
       "      <th>20047</th>\n",
       "      <td>3</td>\n",
       "      <td>122190</td>\n",
       "      <td>19</td>\n",
       "      <td>65</td>\n",
       "      <td>0.292308</td>\n",
       "    </tr>\n",
       "  </tbody>\n",
       "</table>\n",
       "<p>20048 rows × 5 columns</p>\n",
       "</div>"
      ],
      "text/plain": [
       "       exp_group  user_id  likes  views       ctr\n",
       "0              3   115383      9     30  0.300000\n",
       "1              3   123580     13     48  0.270833\n",
       "2              0     4944      8     41  0.195122\n",
       "3              0     4504      5     15  0.333333\n",
       "4              0   121508     18     88  0.204545\n",
       "...          ...      ...    ...    ...       ...\n",
       "20043          3    13781     10     27  0.370370\n",
       "20044          3   130651     18     98  0.183673\n",
       "20045          0     3681      7     55  0.127273\n",
       "20046          3   122008      5     41  0.121951\n",
       "20047          3   122190     19     65  0.292308\n",
       "\n",
       "[20048 rows x 5 columns]"
      ]
     },
     "execution_count": 81,
     "metadata": {},
     "output_type": "execute_result"
    }
   ],
   "source": [
    "df"
   ]
  },
  {
   "cell_type": "markdown",
   "id": "a7abe17b-2ac9-414b-9802-71355f1b548c",
   "metadata": {},
   "source": [
    "2. Для начала просто посмотрим на наше распределение по группам с помощью гистограммы:"
   ]
  },
  {
   "cell_type": "code",
   "execution_count": 82,
   "id": "8cb94c90-496d-4971-95ef-3c5ef1116c61",
   "metadata": {},
   "outputs": [
    {
     "data": {
      "image/png": "[encoded data removed]",
      "text/plain": [
       "<Figure size 864x576 with 1 Axes>"
      ]
     },
     "metadata": {},
     "output_type": "display_data"
    }
   ],
   "source": [
    "# Отрегулируем размер графиков в seaborn \n",
    "sns.set(rc={'figure.figsize':(12,8)})\n",
    "\n",
    "# Зададим параметры гистограммы, показывающей распределение CTR\n",
    "groups = sns.histplot(data = df, \n",
    "              x='ctr', \n",
    "              hue='exp_group', \n",
    "              palette = ['r', 'b'],\n",
    "              alpha=0.5,\n",
    "              kde=False)\n",
    "plt.title('CTR distribution in test(3) и control(0) groups')\n",
    "plt.xlabel('CTR')\n",
    "plt.show()"
   ]
  },
  {
   "cell_type": "markdown",
   "id": "76bab110-1e05-408a-a42c-0ca026497171",
   "metadata": {},
   "source": [
    "3. \"На глаз\" распределение выглядит нормальным, одномодальным. Проведем обычный t-test"
   ]
  },
  {
   "cell_type": "code",
   "execution_count": 83,
   "id": "6fac5da3-4f35-4d2e-9f8e-63a29d8357c9",
   "metadata": {},
   "outputs": [
    {
     "name": "stdout",
     "output_type": "stream",
     "text": [
      "P-value = 1.055849414662529e-43\n"
     ]
    }
   ],
   "source": [
    "print(f\"P-value = {stats.ttest_ind(df[df.exp_group == 0].ctr,df[df.exp_group == 3].ctr,equal_var=False)[1]}\")"
   ]
  },
  {
   "cell_type": "markdown",
   "id": "e988babe-4adc-4db9-95fb-a94f25e0d9c3",
   "metadata": {},
   "source": [
    "В результате обычного т-теста P-value получился гораздо меньше 0.05. Следовательно, мы не можем принять нулевую гипотезу, и различия между средними значениями являются статистически значимыми."
   ]
  },
  {
   "cell_type": "markdown",
   "id": "c8793869-72d8-4bce-9c57-5199f5d07707",
   "metadata": {},
   "source": [
    "3. Теперь проанализируем группы 0 и 3 по метрике линеаризованных лайков."
   ]
  },
  {
   "cell_type": "code",
   "execution_count": 101,
   "id": "35732ba8-58bb-4282-be4a-f8d0a6e86efe",
   "metadata": {},
   "outputs": [],
   "source": [
    "CTRcontrol_0 = (df[df.exp_group == 0]['likes'].sum())/(df[df.exp_group == 0]['views'].sum())\n",
    "CTRcontrol_3 = (df[df.exp_group == 3]['likes'].sum())/(df[df.exp_group == 3]['views'].sum())"
   ]
  },
  {
   "cell_type": "code",
   "execution_count": 85,
   "id": "41624d0d-2303-4364-8672-d57a798015b2",
   "metadata": {},
   "outputs": [],
   "source": [
    "linearized_likes_0 = df[df.exp_group == 0]['likes'] - (CTRcontrol_0*(df[df.exp_group == 0]['views']))\n",
    "linearized_likes_3 = df[df.exp_group == 3]['likes'] - (CTRcontrol_0*(df[df.exp_group == 3]['views']))"
   ]
  },
  {
   "cell_type": "code",
   "execution_count": 104,
   "id": "85e2bcd3-f3a0-4bf9-9e30-ceae9832bc6e",
   "metadata": {},
   "outputs": [
    {
     "data": {
      "image/png": "[encoded data removed]",
      "text/plain": [
       "<Figure size 864x576 with 1 Axes>"
      ]
     },
     "metadata": {},
     "output_type": "display_data"
    }
   ],
   "source": [
    "# Отрегулируем размер графиков в seaborn \n",
    "sns.set(rc={'figure.figsize':(12,8)})\n",
    "\n",
    "# Зададим параметры гистограммы, показывающей распределение CTR\n",
    "sns.histplot(linearized_likes_0, color='r', label='0')\n",
    "sns.histplot(linearized_likes_3, color='b', label='3')\n",
    "plt.title('Linearized CTR distribution in test(3) и control(0) groups')\n",
    "plt.xlabel('CTR')\n",
    "plt.legend()\n",
    "plt.show()"
   ]
  },
  {
   "cell_type": "code",
   "execution_count": 87,
   "id": "3260d6ec-3894-4af6-9468-caf2e9a6154e",
   "metadata": {},
   "outputs": [
    {
     "name": "stdout",
     "output_type": "stream",
     "text": [
      "Linearized P-value = 5.4914249479690016e-52\n"
     ]
    }
   ],
   "source": [
    "print(f\"Linearized P-value = {stats.ttest_ind(linearized_likes_0,linearized_likes_3,equal_var=False)[1]}\")"
   ]
  },
  {
   "cell_type": "markdown",
   "id": "77ebddbd-d30f-49a8-afc0-4764fcd75838",
   "metadata": {},
   "source": [
    "В целом распределение стало более ровным, как бы сгладилось. Значение Linearized P-value оказалось еще меньше, чем при обычном т-тесте. С одной стороны, это подтверждает наличие статистичски значимого различия между средними обеих групп. С другой, Linearized P-value можно назвать более чувствительной метрикой."
   ]
  },
  {
   "cell_type": "markdown",
   "id": "59de46a6-d227-438f-b9b9-063cca7fde48",
   "metadata": {},
   "source": [
    "4. Проведем сравнение тестов между группами 1 и 2"
   ]
  },
  {
   "cell_type": "code",
   "execution_count": 96,
   "id": "babf2354-f22e-4474-8de7-65f71b62937d",
   "metadata": {},
   "outputs": [],
   "source": [
    "# Создаем запрос\n",
    "q2 = \"\"\"\n",
    "SELECT exp_group, \n",
    "    user_id,\n",
    "    sum(action = 'like') as likes,\n",
    "    sum(action = 'view') as views,\n",
    "    likes/views as ctr\n",
    "FROM {db}.feed_actions \n",
    "WHERE toDate(time) between '2022-05-24' and '2022-05-30'\n",
    "    and exp_group in (1,2)\n",
    "GROUP BY exp_group, user_id\n",
    "\"\"\"\n",
    "\n",
    "# Загружаем данные из clickhouse\n",
    "df2 = ph.read_clickhouse(q2, connection=connection)"
   ]
  },
  {
   "cell_type": "code",
   "execution_count": 97,
   "id": "5af8fa7e-0926-4cee-b712-a75d2336f4df",
   "metadata": {},
   "outputs": [
    {
     "data": {
      "text/html": [
       "<div>\n",
       "<style scoped>\n",
       "    .dataframe tbody tr th:only-of-type {\n",
       "        vertical-align: middle;\n",
       "    }\n",
       "\n",
       "    .dataframe tbody tr th {\n",
       "        vertical-align: top;\n",
       "    }\n",
       "\n",
       "    .dataframe thead th {\n",
       "        text-align: right;\n",
       "    }\n",
       "</style>\n",
       "<table border=\"1\" class=\"dataframe\">\n",
       "  <thead>\n",
       "    <tr style=\"text-align: right;\">\n",
       "      <th></th>\n",
       "      <th>exp_group</th>\n",
       "      <th>user_id</th>\n",
       "      <th>likes</th>\n",
       "      <th>views</th>\n",
       "      <th>ctr</th>\n",
       "    </tr>\n",
       "  </thead>\n",
       "  <tbody>\n",
       "    <tr>\n",
       "      <th>0</th>\n",
       "      <td>1</td>\n",
       "      <td>109963</td>\n",
       "      <td>3</td>\n",
       "      <td>15</td>\n",
       "      <td>0.200000</td>\n",
       "    </tr>\n",
       "    <tr>\n",
       "      <th>1</th>\n",
       "      <td>1</td>\n",
       "      <td>26117</td>\n",
       "      <td>32</td>\n",
       "      <td>141</td>\n",
       "      <td>0.226950</td>\n",
       "    </tr>\n",
       "    <tr>\n",
       "      <th>2</th>\n",
       "      <td>1</td>\n",
       "      <td>138232</td>\n",
       "      <td>18</td>\n",
       "      <td>73</td>\n",
       "      <td>0.246575</td>\n",
       "    </tr>\n",
       "    <tr>\n",
       "      <th>3</th>\n",
       "      <td>1</td>\n",
       "      <td>26295</td>\n",
       "      <td>33</td>\n",
       "      <td>122</td>\n",
       "      <td>0.270492</td>\n",
       "    </tr>\n",
       "    <tr>\n",
       "      <th>4</th>\n",
       "      <td>1</td>\n",
       "      <td>18392</td>\n",
       "      <td>7</td>\n",
       "      <td>32</td>\n",
       "      <td>0.218750</td>\n",
       "    </tr>\n",
       "    <tr>\n",
       "      <th>...</th>\n",
       "      <td>...</td>\n",
       "      <td>...</td>\n",
       "      <td>...</td>\n",
       "      <td>...</td>\n",
       "      <td>...</td>\n",
       "    </tr>\n",
       "    <tr>\n",
       "      <th>20026</th>\n",
       "      <td>1</td>\n",
       "      <td>132567</td>\n",
       "      <td>45</td>\n",
       "      <td>296</td>\n",
       "      <td>0.152027</td>\n",
       "    </tr>\n",
       "    <tr>\n",
       "      <th>20027</th>\n",
       "      <td>1</td>\n",
       "      <td>30872</td>\n",
       "      <td>11</td>\n",
       "      <td>59</td>\n",
       "      <td>0.186441</td>\n",
       "    </tr>\n",
       "    <tr>\n",
       "      <th>20028</th>\n",
       "      <td>2</td>\n",
       "      <td>25383</td>\n",
       "      <td>42</td>\n",
       "      <td>127</td>\n",
       "      <td>0.330709</td>\n",
       "    </tr>\n",
       "    <tr>\n",
       "      <th>20029</th>\n",
       "      <td>2</td>\n",
       "      <td>139020</td>\n",
       "      <td>24</td>\n",
       "      <td>114</td>\n",
       "      <td>0.210526</td>\n",
       "    </tr>\n",
       "    <tr>\n",
       "      <th>20030</th>\n",
       "      <td>2</td>\n",
       "      <td>17310</td>\n",
       "      <td>9</td>\n",
       "      <td>82</td>\n",
       "      <td>0.109756</td>\n",
       "    </tr>\n",
       "  </tbody>\n",
       "</table>\n",
       "<p>20031 rows × 5 columns</p>\n",
       "</div>"
      ],
      "text/plain": [
       "       exp_group  user_id  likes  views       ctr\n",
       "0              1   109963      3     15  0.200000\n",
       "1              1    26117     32    141  0.226950\n",
       "2              1   138232     18     73  0.246575\n",
       "3              1    26295     33    122  0.270492\n",
       "4              1    18392      7     32  0.218750\n",
       "...          ...      ...    ...    ...       ...\n",
       "20026          1   132567     45    296  0.152027\n",
       "20027          1    30872     11     59  0.186441\n",
       "20028          2    25383     42    127  0.330709\n",
       "20029          2   139020     24    114  0.210526\n",
       "20030          2    17310      9     82  0.109756\n",
       "\n",
       "[20031 rows x 5 columns]"
      ]
     },
     "execution_count": 97,
     "metadata": {},
     "output_type": "execute_result"
    }
   ],
   "source": [
    "df2"
   ]
  },
  {
   "cell_type": "markdown",
   "id": "bb6c62c4-8e21-4104-b1b3-749753d8e299",
   "metadata": {},
   "source": [
    "Посмотрим на наше распределение"
   ]
  },
  {
   "cell_type": "code",
   "execution_count": 98,
   "id": "6fa07091-e4d5-4547-b280-5b9d7a630ad5",
   "metadata": {},
   "outputs": [
    {
     "data": {
      "image/png": "[encoded data removed]",
      "text/plain": [
       "<Figure size 864x576 with 1 Axes>"
      ]
     },
     "metadata": {},
     "output_type": "display_data"
    }
   ],
   "source": [
    "# Отрегулируем размер графиков в seaborn \n",
    "sns.set(rc={'figure.figsize':(12,8)})\n",
    "\n",
    "# Зададим параметры гистограммы, показывающей распределение CTR\n",
    "groups = sns.histplot(data = df2, \n",
    "              x='ctr', \n",
    "              hue='exp_group', \n",
    "              palette = ['r', 'b'],\n",
    "              alpha=0.5,\n",
    "              kde=False)\n",
    "plt.title('CTR distribution in test(1) и control(2) groups')\n",
    "plt.xlabel('CTR')\n",
    "plt.show()"
   ]
  },
  {
   "cell_type": "markdown",
   "id": "4cf42b95-9980-41af-898e-47b5c7d82aac",
   "metadata": {},
   "source": [
    "5. Распределение ctr в первой группы можно назвать нормальным. Распределение ctr во второй группе - двумодальным. Проведем обычный т-тест."
   ]
  },
  {
   "cell_type": "code",
   "execution_count": 100,
   "id": "0fc54c59-995c-40ca-af87-23300d4c43da",
   "metadata": {},
   "outputs": [
    {
     "name": "stdout",
     "output_type": "stream",
     "text": [
      "P-value = 0.4780623130874935\n"
     ]
    }
   ],
   "source": [
    "print(f\"P-value = {stats.ttest_ind(df2[df2.exp_group == 1].ctr,df2[df2.exp_group == 2].ctr,equal_var=False)[1]}\")"
   ]
  },
  {
   "cell_type": "markdown",
   "id": "f2f42ee4-4d36-4fce-9efc-629a454be7db",
   "metadata": {},
   "source": [
    "При обычном т-тесте P-value больше 0.05. Следовательно, различия между средними значениями не являются статистически значимыми. Однако даже \"на глаз\" видно, что отличия есть. Обычный т-тест, как правило, не следует применять при ненормальных распределениях."
   ]
  },
  {
   "cell_type": "markdown",
   "id": "4e4923c8-957d-44b9-9998-925444a8d040",
   "metadata": {},
   "source": [
    "6. Проанализируем группы 1 и 2 по метрике линеаризованных лайков."
   ]
  },
  {
   "cell_type": "code",
   "execution_count": 106,
   "id": "c7751edc-ab51-45b3-ab52-006f668e07a5",
   "metadata": {},
   "outputs": [],
   "source": [
    "CTRcontrol_1 = (df2[df2.exp_group == 1]['likes'].sum())/(df2[df2.exp_group == 1]['views'].sum())\n",
    "CTRcontrol_2 = (df2[df2.exp_group == 2]['likes'].sum())/(df2[df2.exp_group == 2]['views'].sum())"
   ]
  },
  {
   "cell_type": "code",
   "execution_count": 107,
   "id": "9371be6a-1b13-4735-88c7-be73dd7ad69c",
   "metadata": {},
   "outputs": [],
   "source": [
    "linearized_likes_1 = df2[df2.exp_group == 1]['likes'] - (CTRcontrol_1*(df2[df2.exp_group == 1]['views']))\n",
    "linearized_likes_2 = df2[df2.exp_group == 2]['likes'] - (CTRcontrol_1*(df2[df2.exp_group == 2]['views']))"
   ]
  },
  {
   "cell_type": "code",
   "execution_count": 110,
   "id": "6cb69067-d399-4b7e-a118-edac59824ee5",
   "metadata": {},
   "outputs": [
    {
     "data": {
      "image/png": "[encoded data removed]",
      "text/plain": [
       "<Figure size 864x576 with 1 Axes>"
      ]
     },
     "metadata": {},
     "output_type": "display_data"
    }
   ],
   "source": [
    "# Отрегулируем размер графиков в seaborn \n",
    "sns.set(rc={'figure.figsize':(12,8)})\n",
    "\n",
    "# Зададим параметры гистограммы, показывающей распределение CTR\n",
    "sns.histplot(linearized_likes_1, color='r', label='1')\n",
    "sns.histplot(linearized_likes_2, color='b', label='2')\n",
    "plt.title('Linearized CTR distribution in test(1) и control(2) groups')\n",
    "plt.xlabel('CTR')\n",
    "plt.legend()\n",
    "plt.show()"
   ]
  },
  {
   "cell_type": "code",
   "execution_count": 111,
   "id": "5275e678-a8c1-47ee-a127-6f25dd12eff2",
   "metadata": {},
   "outputs": [
    {
     "name": "stdout",
     "output_type": "stream",
     "text": [
      "Linearized P-value = 9.439432187037712e-10\n"
     ]
    }
   ],
   "source": [
    "print(f\"Linearized P-value = {stats.ttest_ind(linearized_likes_1,linearized_likes_2,equal_var=False)[1]}\")"
   ]
  },
  {
   "cell_type": "markdown",
   "id": "38fea070-e235-428b-9e31-65e3b3e80ec1",
   "metadata": {},
   "source": [
    "7. А вот здесь уже сразу видно, что значение Linearized P-value оказалось обратным и более достоверным, в отличие от P-value обычного т-теста. Linearized P-value намного меньше 0.05. Следовательно, различия в группах статистически значимы."
   ]
  },
  {
   "cell_type": "markdown",
   "id": "5598b9b2-6ef9-4d14-a40c-89038f7a7137",
   "metadata": {},
   "source": [
    "Вывод: Чувствительность метрики линеаризованных лайков действительно выше стандартного т-теста. Более того, при ненормальности распределения данных метод анализа с применением метрики линеаризованных лайков оказался гораздо более достоверным и объективным."
   ]
  },
  {
   "cell_type": "markdown",
   "id": "c0d5a8d7-f238-4c38-8dbb-074bf336de95",
   "metadata": {},
   "source": [
    "P.S. Задание действительно очень интересное! Здорово, когда буквально своими глазами можно увидеть различия в работе разных методов и понять, в каких случаях предпотительно применять каждый. Спасибо! ))"
   ]
  }
 ],
 "metadata": {
  "kernelspec": {
   "display_name": "Python 3 (ipykernel)",
   "language": "python",
   "name": "python3"
  },
  "language_info": {
   "codemirror_mode": {
    "name": "ipython",
    "version": 3
   },
   "file_extension": ".py",
   "mimetype": "text/x-python",
   "name": "python",
   "nbconvert_exporter": "python",
   "pygments_lexer": "ipython3",
   "version": "3.8.10"
  }
 },
 "nbformat": 4,
 "nbformat_minor": 5
}
