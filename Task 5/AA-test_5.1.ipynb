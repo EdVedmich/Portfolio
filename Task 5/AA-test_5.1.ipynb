{
 "cells": [
  {
   "cell_type": "code",
   "execution_count": 1,
   "id": "0ca0a37c-d1a3-45ad-aac1-bbdcafd66a33",
   "metadata": {},
   "outputs": [],
   "source": [
    "#Импортируем библиотеки\n",
    "import pandahouse as ph\n",
    "import pandas as pd\n",
    "import numpy as np\n",
    "import seaborn as sns\n",
    "import matplotlib.pyplot as plt\n",
    "import hashlib\n",
    "from scipy import stats\n",
    "%matplotlib inline"
   ]
  },
  {
   "cell_type": "code",
   "execution_count": 7,
   "id": "e77d5fba-036e-4c86-b3f4-e43143cf1799",
   "metadata": {},
   "outputs": [],
   "source": [
    "# Подключаемся к базе данных\n",
    "connection = {\n",
    "    'host': 'https://clickhouse.lab.karpov.courses',\n",
    "    'password': 'dpo_python_2020',\n",
    "    'user': 'student',\n",
    "    'database': 'simulator_20220620'\n",
    "}"
   ]
  },
  {
   "cell_type": "code",
   "execution_count": 8,
   "id": "e56bdba0-603c-41d7-bd05-034825c16679",
   "metadata": {},
   "outputs": [],
   "source": [
    "# Создаем запрос\n",
    "q = \"\"\"\n",
    "SELECT exp_group, \n",
    "    user_id,\n",
    "    sum(action = 'like') as likes,\n",
    "    sum(action = 'view') as views,\n",
    "    likes/views as ctr\n",
    "FROM {db}.feed_actions \n",
    "WHERE toDate(time) between '2022-05-17' and '2022-05-23'\n",
    "    and exp_group in (2,3)\n",
    "GROUP BY exp_group, user_id\n",
    "\"\"\"\n",
    "\n",
    "# Загружаем данные из clickhouse\n",
    "df = ph.read_clickhouse(q, connection=connection)"
   ]
  },
  {
   "cell_type": "code",
   "execution_count": 9,
   "id": "b1493713-ccf0-4bd5-b699-0e935bb2534c",
   "metadata": {},
   "outputs": [
    {
     "data": {
      "text/html": [
       "<div>\n",
       "<style scoped>\n",
       "    .dataframe tbody tr th:only-of-type {\n",
       "        vertical-align: middle;\n",
       "    }\n",
       "\n",
       "    .dataframe tbody tr th {\n",
       "        vertical-align: top;\n",
       "    }\n",
       "\n",
       "    .dataframe thead th {\n",
       "        text-align: right;\n",
       "    }\n",
       "</style>\n",
       "<table border=\"1\" class=\"dataframe\">\n",
       "  <thead>\n",
       "    <tr style=\"text-align: right;\">\n",
       "      <th></th>\n",
       "      <th>exp_group</th>\n",
       "      <th>user_id</th>\n",
       "      <th>likes</th>\n",
       "      <th>views</th>\n",
       "      <th>ctr</th>\n",
       "    </tr>\n",
       "  </thead>\n",
       "  <tbody>\n",
       "    <tr>\n",
       "      <th>0</th>\n",
       "      <td>3</td>\n",
       "      <td>115383</td>\n",
       "      <td>11</td>\n",
       "      <td>36</td>\n",
       "      <td>0.305556</td>\n",
       "    </tr>\n",
       "    <tr>\n",
       "      <th>1</th>\n",
       "      <td>3</td>\n",
       "      <td>123580</td>\n",
       "      <td>15</td>\n",
       "      <td>92</td>\n",
       "      <td>0.163043</td>\n",
       "    </tr>\n",
       "    <tr>\n",
       "      <th>2</th>\n",
       "      <td>2</td>\n",
       "      <td>131473</td>\n",
       "      <td>26</td>\n",
       "      <td>148</td>\n",
       "      <td>0.175676</td>\n",
       "    </tr>\n",
       "    <tr>\n",
       "      <th>3</th>\n",
       "      <td>2</td>\n",
       "      <td>23985</td>\n",
       "      <td>12</td>\n",
       "      <td>66</td>\n",
       "      <td>0.181818</td>\n",
       "    </tr>\n",
       "    <tr>\n",
       "      <th>4</th>\n",
       "      <td>2</td>\n",
       "      <td>24523</td>\n",
       "      <td>17</td>\n",
       "      <td>120</td>\n",
       "      <td>0.141667</td>\n",
       "    </tr>\n",
       "    <tr>\n",
       "      <th>...</th>\n",
       "      <td>...</td>\n",
       "      <td>...</td>\n",
       "      <td>...</td>\n",
       "      <td>...</td>\n",
       "      <td>...</td>\n",
       "    </tr>\n",
       "    <tr>\n",
       "      <th>17044</th>\n",
       "      <td>3</td>\n",
       "      <td>122008</td>\n",
       "      <td>4</td>\n",
       "      <td>31</td>\n",
       "      <td>0.129032</td>\n",
       "    </tr>\n",
       "    <tr>\n",
       "      <th>17045</th>\n",
       "      <td>2</td>\n",
       "      <td>25383</td>\n",
       "      <td>16</td>\n",
       "      <td>57</td>\n",
       "      <td>0.280702</td>\n",
       "    </tr>\n",
       "    <tr>\n",
       "      <th>17046</th>\n",
       "      <td>3</td>\n",
       "      <td>122190</td>\n",
       "      <td>25</td>\n",
       "      <td>74</td>\n",
       "      <td>0.337838</td>\n",
       "    </tr>\n",
       "    <tr>\n",
       "      <th>17047</th>\n",
       "      <td>2</td>\n",
       "      <td>108927</td>\n",
       "      <td>8</td>\n",
       "      <td>33</td>\n",
       "      <td>0.242424</td>\n",
       "    </tr>\n",
       "    <tr>\n",
       "      <th>17048</th>\n",
       "      <td>2</td>\n",
       "      <td>17310</td>\n",
       "      <td>2</td>\n",
       "      <td>14</td>\n",
       "      <td>0.142857</td>\n",
       "    </tr>\n",
       "  </tbody>\n",
       "</table>\n",
       "<p>17049 rows × 5 columns</p>\n",
       "</div>"
      ],
      "text/plain": [
       "       exp_group  user_id  likes  views       ctr\n",
       "0              3   115383     11     36  0.305556\n",
       "1              3   123580     15     92  0.163043\n",
       "2              2   131473     26    148  0.175676\n",
       "3              2    23985     12     66  0.181818\n",
       "4              2    24523     17    120  0.141667\n",
       "...          ...      ...    ...    ...       ...\n",
       "17044          3   122008      4     31  0.129032\n",
       "17045          2    25383     16     57  0.280702\n",
       "17046          3   122190     25     74  0.337838\n",
       "17047          2   108927      8     33  0.242424\n",
       "17048          2    17310      2     14  0.142857\n",
       "\n",
       "[17049 rows x 5 columns]"
      ]
     },
     "execution_count": 9,
     "metadata": {},
     "output_type": "execute_result"
    }
   ],
   "source": [
    "df"
   ]
  },
  {
   "cell_type": "code",
   "execution_count": 10,
   "id": "405e6aff-765c-4bb0-a003-d8ec5b4c90ac",
   "metadata": {},
   "outputs": [
    {
     "data": {
      "text/html": [
       "<div>\n",
       "<style scoped>\n",
       "    .dataframe tbody tr th:only-of-type {\n",
       "        vertical-align: middle;\n",
       "    }\n",
       "\n",
       "    .dataframe tbody tr th {\n",
       "        vertical-align: top;\n",
       "    }\n",
       "\n",
       "    .dataframe thead th {\n",
       "        text-align: right;\n",
       "    }\n",
       "</style>\n",
       "<table border=\"1\" class=\"dataframe\">\n",
       "  <thead>\n",
       "    <tr style=\"text-align: right;\">\n",
       "      <th></th>\n",
       "      <th>user_id</th>\n",
       "      <th>likes</th>\n",
       "      <th>views</th>\n",
       "      <th>ctr</th>\n",
       "    </tr>\n",
       "    <tr>\n",
       "      <th>exp_group</th>\n",
       "      <th></th>\n",
       "      <th></th>\n",
       "      <th></th>\n",
       "      <th></th>\n",
       "    </tr>\n",
       "  </thead>\n",
       "  <tbody>\n",
       "    <tr>\n",
       "      <th>2</th>\n",
       "      <td>8480</td>\n",
       "      <td>8480</td>\n",
       "      <td>8480</td>\n",
       "      <td>8480</td>\n",
       "    </tr>\n",
       "    <tr>\n",
       "      <th>3</th>\n",
       "      <td>8569</td>\n",
       "      <td>8569</td>\n",
       "      <td>8569</td>\n",
       "      <td>8569</td>\n",
       "    </tr>\n",
       "  </tbody>\n",
       "</table>\n",
       "</div>"
      ],
      "text/plain": [
       "           user_id  likes  views   ctr\n",
       "exp_group                             \n",
       "2             8480   8480   8480  8480\n",
       "3             8569   8569   8569  8569"
      ]
     },
     "execution_count": 10,
     "metadata": {},
     "output_type": "execute_result"
    }
   ],
   "source": [
    "# Измерим сколько пользователей в каждой группе\n",
    "df.groupby('exp_group').count()"
   ]
  },
  {
   "cell_type": "code",
   "execution_count": 11,
   "id": "0bc799d6-cca4-4922-9fec-025ce8f72cd0",
   "metadata": {},
   "outputs": [],
   "source": [
    "p_value = []\n",
    "for i in range(10000):\n",
    "    # Сформируем подвыборки для каждой из групп по 500 пользователей с параметром CTR\n",
    "    a = df[df.exp_group == 2].ctr.sample(500, replace=True).values.tolist()\n",
    "    b = df[df.exp_group == 3].ctr.sample(500, replace=True).values.tolist()\n",
    "    \n",
    "    # Проведем t-test по каждой из двух сформированных подвыборок и запишем все значения p-value в список\n",
    "    p_value.append(stats.ttest_ind(a, b, equal_var=False).pvalue)"
   ]
  },
  {
   "cell_type": "code",
   "execution_count": 27,
   "id": "84c2f971-8cf3-4405-b139-4c2986e8ec70",
   "metadata": {},
   "outputs": [
    {
     "data": {
      "text/plain": [
       "[0.23083219810017194, 0.7268497741663255, 0.042950394255500575]"
      ]
     },
     "execution_count": 27,
     "metadata": {},
     "output_type": "execute_result"
    }
   ],
   "source": [
    "#Выведем несколько значений из получившегося списка, чтобы удостовериться в правильности полученного результата\n",
    "p_value[0:3]"
   ]
  },
  {
   "cell_type": "code",
   "execution_count": 28,
   "id": "e1d72ed8-d947-443b-a1a8-e54489b97817",
   "metadata": {},
   "outputs": [
    {
     "data": {
      "image/png": "[encoded data removed]",
      "text/plain": [
       "<Figure size 864x432 with 1 Axes>"
      ]
     },
     "metadata": {},
     "output_type": "display_data"
    }
   ],
   "source": [
    "#установим размер гистограммы\n",
    "sns.set(rc={'figure.figsize':(12,6)})\n",
    "#отрисуем гистограмму распределения p-value\n",
    "hist = sns.histplot(data = p_value, alpha = 0.5, kde=False)\n",
    "hist.set_title('p-value distribution')\n",
    "plt.show()"
   ]
  },
  {
   "cell_type": "code",
   "execution_count": 45,
   "id": "ccbcd9a3-5516-4643-b671-cddfb6f69c35",
   "metadata": {},
   "outputs": [],
   "source": [
    "#сконвертируем список значений p_values в массив \n",
    "p_values = np.asarray(p_value)"
   ]
  },
  {
   "cell_type": "code",
   "execution_count": 47,
   "id": "a469070e-8a80-496b-9f3d-7ec7336b734f",
   "metadata": {},
   "outputs": [
    {
     "name": "stdout",
     "output_type": "stream",
     "text": [
      "Доля p-values, которая оказалась меньше или равна 0.05 составила 5.16%\n"
     ]
    }
   ],
   "source": [
    "#рассчитаем какой процент p values оказался меньше либо равен 0.05\n",
    "pv_persentage = (p_values <= 0.05).sum()/len(p_value)*100\n",
    "print(f'Доля p-values, которая оказалась меньше или равна 0.05 составила {pv_persentage}%')"
   ]
  },
  {
   "cell_type": "markdown",
   "id": "209f87ac-38f6-45f0-9cf0-b5c122621fe6",
   "metadata": {},
   "source": [
    "Вывод: нам удалось отклонить нулевую гипотезу в 5.16% случаев при текущем количестве экспериментов (10000). Можно сделать вывод, что система сплитования в целом работает корректно, принимая во внимание факт, что получить статистически значимые различия между 2 и 3 группами должны получаться только в результате случайного ложного срабатывания, составляющего около 5%. Однако если эксперимент требует более высокой точности, то воможно следует либо увеличить количество экспериментов, либо применить другие методы статистического анализа."
   ]
  }
 ],
 "metadata": {
  "kernelspec": {
   "display_name": "Python 3 (ipykernel)",
   "language": "python",
   "name": "python3"
  },
  "language_info": {
   "codemirror_mode": {
    "name": "ipython",
    "version": 3
   },
   "file_extension": ".py",
   "mimetype": "text/x-python",
   "name": "python",
   "nbconvert_exporter": "python",
   "pygments_lexer": "ipython3",
   "version": "3.8.10"
  }
 },
 "nbformat": 4,
 "nbformat_minor": 5
}
